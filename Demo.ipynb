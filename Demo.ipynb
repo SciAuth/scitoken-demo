{
 "cells": [
  {
   "cell_type": "markdown",
   "id": "4e75b93f-c282-4100-96c6-369aa0227a4a",
   "metadata": {},
   "source": [
    "# SciToken Demo\n",
    "In this demo, you will learn how to: \n",
    "- Request a demo credential from the SciTokens demo issuer.\n",
    "- Examine a token\n",
    "- Validate a token\n",
    "- A bonus exercise where you can earn a **Badge!**\n",
    "\n",
    "This demo is to give an idea what it is like to develop with SciTokens."
   ]
  },
  {
   "cell_type": "code",
   "execution_count": null,
   "id": "0fc1393d-8be8-45ab-9d6d-361afe81114f",
   "metadata": {},
   "outputs": [],
   "source": [
    "# You don't need to install the scitokens library in Binder, it's already installed for you.\n",
    "# !pip install scitokens\n",
    "import json, requests, scitokens"
   ]
  },
  {
   "cell_type": "markdown",
   "id": "be78389f-c2ad-4100-bff9-99ee22109971",
   "metadata": {
    "tags": []
   },
   "source": [
    "## Getting your first token\n",
    "We will first create a simple function to retrieve a token from [demo.scitokens.org](https://demo.scitokens.org).  **Normally** it would require a private key, as well as a public key posted on a website.  For now, we will use [demo.scitokens.org](https://demo.scitokens.org) since it is easier.  Most issuers will use oauth to get a token."
   ]
  },
  {
   "cell_type": "code",
   "execution_count": null,
   "id": "e7f61829-ad3d-4340-a47f-23118949aedf",
   "metadata": {},
   "outputs": [],
   "source": [
    "# Specify an algorithm for signature\n",
    "# ES256 = Elliptic Curve with SHA-256\n",
    "# getToken will return a signed token with the payload\n",
    "def getToken(payload: dict):\n",
    "    data = json.dumps({'algorithm': \"ES256\", 'payload': payload})\n",
    "    resp = requests.post(\"https://demo.scitokens.org/issue\", data=data)\n",
    "    return resp.text"
   ]
  },
  {
   "cell_type": "markdown",
   "id": "23f2c905-825e-4d11-9a03-b8ff0d9961da",
   "metadata": {},
   "source": [
    "Lets create a simple token with your email address.  Enter your email address below to create a personalized token.  This will print out the token in it's raw (base64 encoded) form."
   ]
  },
  {
   "cell_type": "code",
   "execution_count": null,
   "id": "aaa106a1-ae14-4b76-ab6e-0b3cd4dd2246",
   "metadata": {},
   "outputs": [],
   "source": [
    "payload = {\n",
    "    \"sub\": \"<email address>\"\n",
    "}\n",
    "print(getToken(payload))"
   ]
  },
  {
   "cell_type": "markdown",
   "id": "7d8c0e3d-0856-4b4a-9fcd-110c26ef3b7c",
   "metadata": {
    "tags": []
   },
   "source": [
    "## Parsing the token\n",
    "When we deserialize the token, we have to give the audience.  When deserializtion happens, it will also validate some of the attributes, such as the token expiration and the audience."
   ]
  },
  {
   "cell_type": "code",
   "execution_count": null,
   "id": "5bc81443-e2e4-42d1-b5ca-2146be7fbcf5",
   "metadata": {},
   "outputs": [],
   "source": [
    "raw_token = getToken(payload)\n",
    "parsed_token = scitokens.SciToken.deserialize(raw_token, audience=\"https://demo.scitokens.org\")"
   ]
  },
  {
   "cell_type": "code",
   "execution_count": null,
   "id": "560e3eb2-e95b-486a-b562-09a0bb5357a1",
   "metadata": {},
   "outputs": [],
   "source": [
    "# Print out all of the claims in the token\n",
    "for claim in parsed_token.claims():\n",
    "    print(claim)"
   ]
  },
  {
   "cell_type": "markdown",
   "id": "235ef8d8-0543-4260-8258-80dbf4744cf9",
   "metadata": {},
   "source": [
    "What happens if you edit the token?  It should fail the signature check.  There will be a very, very large error."
   ]
  },
  {
   "cell_type": "code",
   "execution_count": null,
   "id": "ffc1629e-fb2c-4f79-9a6b-c93a07a196b7",
   "metadata": {},
   "outputs": [],
   "source": [
    "raw_token += \"blah\"\n",
    "parsed_token = scitokens.SciToken.deserialize(raw_token, audience=\"https://demo.scitokens.org\")"
   ]
  },
  {
   "cell_type": "code",
   "execution_count": null,
   "id": "4dd8ab50-3b4c-4f03-9a21-62c053755b92",
   "metadata": {},
   "outputs": [],
   "source": [
    "# In the python library, you can edit claims like a dictionary.\n",
    "# But this doesn't have any effect, since you don't have the private key to sign it\n",
    "parsed_token['scope'] = \"read:/protected\"\n",
    "parsed_token.serialize()"
   ]
  },
  {
   "cell_type": "markdown",
   "id": "8fa76d2b-1192-4ce2-9906-01f51dd388e0",
   "metadata": {},
   "source": [
    "## Getting an updated token\n",
    "Since we updated the payload, the signature of the token no longer matches.  In fact, try running the `token.serialize` function.  You need a private key to serialize a token since it must be signed.\n",
    "\n",
    "We can, however, request a new token from demo.scitokens.org with the `scope` = `read:/protected`"
   ]
  },
  {
   "cell_type": "code",
   "execution_count": null,
   "id": "c66eae0a-f949-4c6d-8beb-915f30de17b4",
   "metadata": {},
   "outputs": [],
   "source": [
    "payload = {\n",
    "    \"sub\": \"<email address>\",\n",
    "    \"scope\": \"read:/protected\"\n",
    "}\n",
    "token = getToken(payload)"
   ]
  },
  {
   "cell_type": "markdown",
   "id": "792cce48-966e-4ddc-af3a-4d95d6d2c42e",
   "metadata": {},
   "source": [
    "## Verifying the token against an authorization\n",
    "Act as if you are a storage server.  When a request comes in with a scitoken, the request will want to read or write to some file.  The token permissions are encoded in the `scope` attribute.  First, lets take the token we created in the last call and try some authorization tests."
   ]
  },
  {
   "cell_type": "code",
   "execution_count": null,
   "id": "41f310bb-220b-4bb4-9b67-7e3ceb03918a",
   "metadata": {},
   "outputs": [],
   "source": [
    "token = getToken(payload)\n",
    "parsed_token = scitokens.SciToken.deserialize(token, audience=\"https://demo.scitokens.org\")"
   ]
  },
  {
   "cell_type": "code",
   "execution_count": null,
   "id": "f1ce2209-3a31-47e9-8d1f-b9d840ecb406",
   "metadata": {},
   "outputs": [],
   "source": [
    "# Create an enforcer which is a high level way to \"query\" the token\n",
    "# The C++ library has a very similar method\n",
    "enforcer = scitokens.Enforcer(issuer=\"https://demo.scitokens.org\", audience=\"https://demo.scitokens.org\")"
   ]
  },
  {
   "cell_type": "code",
   "execution_count": null,
   "id": "b0576049-8a02-4809-ac8f-0717801983ca",
   "metadata": {},
   "outputs": [],
   "source": [
    "enforcer.test(parsed_token, \"read\", \"/protected\")"
   ]
  },
  {
   "cell_type": "code",
   "execution_count": null,
   "id": "eca64486-8ea1-421c-b7f0-87864d5c4d7b",
   "metadata": {},
   "outputs": [],
   "source": [
    "enforcer.test(parsed_token, \"read\", \"/doesnotexist\")"
   ]
  },
  {
   "cell_type": "code",
   "execution_count": null,
   "id": "0a7d013f-6229-45fc-ac83-0c3b380e8383",
   "metadata": {},
   "outputs": [],
   "source": [
    "enforcer.test(parsed_token, \"read\", \"/protected/file.txt\")"
   ]
  },
  {
   "cell_type": "code",
   "execution_count": null,
   "id": "77ef0d2b-7557-4263-8f92-49b4e123cb61",
   "metadata": {},
   "outputs": [],
   "source": [
    "enforcer.test(parsed_token, \"read\", \"/protected/dir1/dir2/file.dat\")"
   ]
  },
  {
   "cell_type": "code",
   "execution_count": null,
   "id": "33f33e0b-e622-4913-a2b2-b7fa96b64908",
   "metadata": {},
   "outputs": [],
   "source": [
    "enforcer.test(parsed_token, \"write\", \"/protected/dir1/dir2/file.dat\")"
   ]
  },
  {
   "cell_type": "markdown",
   "id": "a32f60e9-40a5-4d23-ba84-874422c40220",
   "metadata": {},
   "source": [
    "## How to query a web resource\n",
    "The token is passed over HTTP in the Authorization header:\n",
    "\n",
    "Header:\n",
    "\n",
    "    ...\n",
    "    Host: demo.scitokens.org\n",
    "    Authorization: Bearer <token>\n",
    "    ...\n",
    "\n",
    " "
   ]
  },
  {
   "cell_type": "code",
   "execution_count": null,
   "id": "35765e51-aea3-4e79-8599-3b0fd521dd0c",
   "metadata": {},
   "outputs": [],
   "source": [
    "headers = {'Authorization': \"Bearer \" + token}\n",
    "query = requests.get(\"https://demo.scitokens.org/protected\", headers=headers)\n",
    "print(query.text)"
   ]
  },
  {
   "cell_type": "code",
   "execution_count": null,
   "id": "9dcaf9c4-527f-4ba5-8b32-10779f3efcd8",
   "metadata": {},
   "outputs": [],
   "source": [
    "query = requests.get(\"https://demo.scitokens.org/secret\", headers=headers)\n",
    "print(query.text)"
   ]
  },
  {
   "cell_type": "markdown",
   "id": "9fb84de5-5681-4684-bc0e-f8f38563355a",
   "metadata": {},
   "source": [
    "To query a resource with Curl, the command would be:\n",
    "\n",
    "    $ curl -H \"Authorization: Bearer <token>\" https://demo.scitokens.org/protected"
   ]
  },
  {
   "cell_type": "code",
   "execution_count": null,
   "id": "d89a19f4-c1e9-4dce-9601-a737ee8c31e8",
   "metadata": {},
   "outputs": [],
   "source": [
    "print(\"curl -H \\\"Authorization: Bearer \" + token + \"\\\" https://demo.scitokens.org/protected\".format(token))"
   ]
  },
  {
   "cell_type": "markdown",
   "id": "3f285096-19b3-4b2e-8299-a1898b55ebee",
   "metadata": {},
   "source": [
    "## Bonus Exercise!\n",
    "In this bonus exercise, you will request a token that is able to access https://demo.scitokens.org/secret.  Things to think about:\n",
    "- What does the `scope` claim need to be?\n",
    "- Include your email address in the `sub` attribute for a [OpenBadge badge](https://badgr.com/public/badges/0xFqlz4bQ5qAd7FG6FIwEQ)!"
   ]
  },
  {
   "cell_type": "code",
   "execution_count": null,
   "id": "519a0eaa-e0ab-4fa7-914d-36526df006c8",
   "metadata": {},
   "outputs": [],
   "source": []
  }
 ],
 "metadata": {
  "kernelspec": {
   "display_name": "Python 3 (ipykernel)",
   "language": "python",
   "name": "python3"
  },
  "language_info": {
   "codemirror_mode": {
    "name": "ipython",
    "version": 3
   },
   "file_extension": ".py",
   "mimetype": "text/x-python",
   "name": "python",
   "nbconvert_exporter": "python",
   "pygments_lexer": "ipython3",
   "version": "3.8.12"
  }
 },
 "nbformat": 4,
 "nbformat_minor": 5
}
