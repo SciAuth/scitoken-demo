{
 "cells": [
  {
   "cell_type": "markdown",
   "id": "4e75b93f-c282-4100-96c6-369aa0227a4a",
   "metadata": {},
   "source": [
    "# SciToken Demo"
   ]
  },
  {
   "cell_type": "code",
   "execution_count": null,
   "id": "0fc1393d-8be8-45ab-9d6d-361afe81114f",
   "metadata": {},
   "outputs": [],
   "source": [
    "!pip install scitokens"
   ]
  }
 ],
 "metadata": {
  "kernelspec": {
   "display_name": "Python 3 (ipykernel)",
   "language": "python",
   "name": "python3"
  },
  "language_info": {
   "codemirror_mode": {
    "name": "ipython",
    "version": 3
   },
   "file_extension": ".py",
   "mimetype": "text/x-python",
   "name": "python",
   "nbconvert_exporter": "python",
   "pygments_lexer": "ipython3",
   "version": "3.8.12"
  }
 },
 "nbformat": 4,
 "nbformat_minor": 5
}
